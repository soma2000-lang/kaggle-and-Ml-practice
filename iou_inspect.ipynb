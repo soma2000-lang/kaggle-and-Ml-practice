{
 "cells": [
  {
   "cell_type": "code",
   "id": "initial_id",
   "metadata": {
    "collapsed": true,
    "ExecuteTime": {
     "end_time": "2025-01-24T19:26:46.468857Z",
     "start_time": "2025-01-24T19:26:44.236641Z"
    }
   },
   "source": "from cryoet.data.parsers import read_annotated_volume,AnnotatedVolume",
   "outputs": [],
   "execution_count": 1
  },
  {
   "metadata": {
    "ExecuteTime": {
     "end_time": "2025-01-24T19:26:46.480041Z",
     "start_time": "2025-01-24T19:26:46.468857Z"
    }
   },
   "cell_type": "code",
   "source": [
    "from pathlib import Path\n",
    "\n",
    "root = Path(\"./data/czii-cryo-et-object-identification\")"
   ],
   "id": "b6b1c01a68c11af7",
   "outputs": [],
   "execution_count": 2
  },
  {
   "metadata": {
    "ExecuteTime": {
     "end_time": "2025-01-24T19:26:46.819668Z",
     "start_time": "2025-01-24T19:26:46.808661Z"
    }
   },
   "cell_type": "code",
   "source": [
    "import os\n",
    "\n",
    "studies = list(sorted(os.listdir(str(root / \"train\" / \"static\" / \"ExperimentRuns\"))))\n",
    "studies"
   ],
   "id": "b13f947e20d9ec11",
   "outputs": [
    {
     "data": {
      "text/plain": [
       "['TS_5_4', 'TS_69_2', 'TS_6_4', 'TS_6_6', 'TS_73_6', 'TS_86_3', 'TS_99_9']"
      ]
     },
     "execution_count": 3,
     "metadata": {},
     "output_type": "execute_result"
    }
   ],
   "execution_count": 3
  },
  {
   "metadata": {
    "ExecuteTime": {
     "end_time": "2025-01-24T19:27:11.596621Z",
     "start_time": "2025-01-24T19:27:07.489038Z"
    }
   },
   "cell_type": "code",
   "source": [
    "from cryoet.modelling.detection.task_aligned_assigner import batch_pairwise_keypoints_iou\n",
    "import torch\n",
    "import numpy as np\n",
    "\n",
    "\n",
    "for study in studies:\n",
    "    volume:AnnotatedVolume = read_annotated_volume(root, study, \"denoised\", split=\"train\", use_6_classes=True)\n",
    "\n",
    "    print(\"Study\", study)\n",
    "    for label in range(5):\n",
    "        mask = volume.labels == label\n",
    "        centers = volume.centers_px[mask]\n",
    "        radius = volume.radius_px[mask]\n",
    "\n",
    "        iou = batch_pairwise_keypoints_iou(\n",
    "            torch.from_numpy(centers).reshape(1, -1, 3),\n",
    "            torch.from_numpy(centers).reshape(1, -1, 3),\n",
    "            torch.from_numpy(radius).reshape(1, -1),\n",
    "        )\n",
    "        iou = torch.triu(iou, diagonal=1).numpy()\n",
    "        num_pts_09 = np.count_nonzero(iou > 0.9)\n",
    "        num_pts_08 = np.count_nonzero(iou > 0.8)\n",
    "        num_pts_07 = np.count_nonzero(iou > 0.7)\n",
    "        num_pts_06 = np.count_nonzero(iou > 0.6)\n",
    "        num_pts_05 = np.count_nonzero(iou > 0.5)\n",
    "        num_pts_04 = np.count_nonzero(iou > 0.4)\n",
    "        num_pts_03 = np.count_nonzero(iou > 0.3)\n",
    "        print(\"Class\",label,\"count\", len(centers), \"max iou\", np.max(iou), num_pts_09, num_pts_08, num_pts_07, num_pts_06, num_pts_05, num_pts_04, num_pts_03)\n",
    "\n",
    "    print(\"Ignoring class\")\n",
    "    centers = volume.centers_px\n",
    "    radius = volume.radius_px\n",
    "\n",
    "    iou = batch_pairwise_keypoints_iou(\n",
    "        torch.from_numpy(centers).reshape(1, -1, 3),\n",
    "        torch.from_numpy(centers).reshape(1, -1, 3),\n",
    "        torch.from_numpy(radius).reshape(1, -1),\n",
    "    )\n",
    "    iou = torch.triu(iou, diagonal=1).numpy()\n",
    "    num_pts_09 = np.count_nonzero(iou > 0.9)\n",
    "    num_pts_08 = np.count_nonzero(iou > 0.8)\n",
    "    num_pts_07 = np.count_nonzero(iou > 0.7)\n",
    "    num_pts_06 = np.count_nonzero(iou > 0.6)\n",
    "    num_pts_05 = np.count_nonzero(iou > 0.5)\n",
    "    num_pts_04 = np.count_nonzero(iou > 0.4)\n",
    "    num_pts_03 = np.count_nonzero(iou > 0.3)\n",
    "    print(\"max iou\", np.max(iou), num_pts_09, num_pts_08, num_pts_07, num_pts_06, num_pts_05, num_pts_04, num_pts_03)"
   ],
   "id": "95e1c635abecff2f",
   "outputs": [
    {
     "name": "stdout",
     "output_type": "stream",
     "text": [
      "Study TS_5_4\n",
      "Class 0 count 46 max iou 0.31020418 0 0 0 0 0 0 1\n",
      "Class 1 count 12 max iou 2.8530423e-22 0 0 0 0 0 0 0\n",
      "Class 2 count 31 max iou 0.26633903 0 0 0 0 0 0 0\n",
      "Class 3 count 30 max iou 0.021888513 0 0 0 0 0 0 0\n",
      "Class 4 count 11 max iou 0.0016218417 0 0 0 0 0 0 0\n",
      "Ignoring class\n",
      "max iou 0.9602215 2 2 2 2 2 2 3\n",
      "Study TS_69_2\n",
      "Class 0 count 35 max iou 0.2220534 0 0 0 0 0 0 0\n",
      "Class 1 count 16 max iou 0.12957661 0 0 0 0 0 0 0\n",
      "Class 2 count 37 max iou 0.23293371 0 0 0 0 0 0 0\n",
      "Class 3 count 34 max iou 0.24667944 0 0 0 0 0 0 0\n",
      "Class 4 count 9 max iou 3.561509e-06 0 0 0 0 0 0 0\n",
      "Ignoring class\n",
      "max iou 0.36165655 0 0 0 0 0 0 1\n",
      "Study TS_6_4\n",
      "Class 0 count 58 max iou 0.30042368 0 0 0 0 0 0 1\n",
      "Class 1 count 12 max iou 7.4132196e-16 0 0 0 0 0 0 0\n",
      "Class 2 count 74 max iou 0.33798456 0 0 0 0 0 0 3\n",
      "Class 3 count 30 max iou 0.08075709 0 0 0 0 0 0 0\n",
      "Class 4 count 10 max iou 4.9351723e-08 0 0 0 0 0 0 0\n",
      "Ignoring class\n",
      "max iou 0.92689127 1 1 1 1 1 1 5\n",
      "Study TS_6_6\n",
      "Class 0 count 41 max iou 0.28422165 0 0 0 0 0 0 0\n",
      "Class 1 count 11 max iou 1.0794005e-09 0 0 0 0 0 0 0\n",
      "Class 2 count 23 max iou 0.2556083 0 0 0 0 0 0 0\n",
      "Class 3 count 35 max iou 0.020414 0 0 0 0 0 0 0\n",
      "Class 4 count 19 max iou 0.035392962 0 0 0 0 0 0 0\n",
      "Ignoring class\n",
      "max iou 0.28422165 0 0 0 0 0 0 0\n",
      "Study TS_73_6\n",
      "Class 0 count 95 max iou 0.8858422 0 1 1 1 1 1 2\n",
      "Class 1 count 14 max iou 0.15841027 0 0 0 0 0 0 0\n",
      "Class 2 count 46 max iou 0.27195498 0 0 0 0 0 0 0\n",
      "Class 3 count 28 max iou 0.029486801 0 0 0 0 0 0 0\n",
      "Class 4 count 22 max iou 0.14360239 0 0 0 0 0 0 0\n",
      "Ignoring class\n",
      "max iou 0.89966273 0 2 2 2 2 2 3\n",
      "Study TS_86_3\n",
      "Class 0 count 64 max iou 0.2821475 0 0 0 0 0 0 0\n",
      "Class 1 count 23 max iou 7.304248e-05 0 0 0 0 0 0 0\n",
      "Class 2 count 55 max iou 0.37983993 0 0 0 0 0 0 1\n",
      "Class 3 count 45 max iou 0.11791664 0 0 0 0 0 0 0\n",
      "Class 4 count 29 max iou 0.04293624 0 0 0 0 0 0 0\n",
      "Ignoring class\n",
      "max iou 0.9939679 1 1 1 2 2 2 3\n",
      "Study TS_99_9\n",
      "Class 0 count 36 max iou 0.15289941 0 0 0 0 0 0 0\n",
      "Class 1 count 24 max iou 0.00040293232 0 0 0 0 0 0 0\n",
      "Class 2 count 65 max iou 0.3473909 0 0 0 0 0 0 1\n",
      "Class 3 count 49 max iou 0.30893028 0 0 0 0 0 0 1\n",
      "Class 4 count 13 max iou 0.00091013004 0 0 0 0 0 0 0\n",
      "Ignoring class\n",
      "max iou 0.9702018 3 3 3 3 3 3 5\n"
     ]
    }
   ],
   "execution_count": 5
  },
  {
   "metadata": {
    "ExecuteTime": {
     "end_time": "2025-01-24T19:26:55.705232Z",
     "start_time": "2025-01-24T19:26:55.694927Z"
    }
   },
   "cell_type": "code",
   "source": "",
   "id": "69db981cca00acc3",
   "outputs": [],
   "execution_count": null
  }
 ],
 "metadata": {
  "kernelspec": {
   "display_name": "Python 3",
   "language": "python",
   "name": "python3"
  },
  "language_info": {
   "codemirror_mode": {
    "name": "ipython",
    "version": 2
   },
   "file_extension": ".py",
   "mimetype": "text/x-python",
   "name": "python",
   "nbconvert_exporter": "python",
   "pygments_lexer": "ipython2",
   "version": "2.7.6"
  }
 },
 "nbformat": 4,
 "nbformat_minor": 5
}
